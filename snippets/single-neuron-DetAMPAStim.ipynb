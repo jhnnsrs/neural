{
 "cells": [
  {
   "cell_type": "markdown",
   "metadata": {},
   "source": [
    "# Demonstration using NEURON + Python\n",
    "\n",
    "This jupyter notebook requires a valid installation of [NEURON](https://github.com/nrnhines/nrn) with python configured. "
   ]
  },
  {
   "cell_type": "markdown",
   "metadata": {},
   "source": [
    "### 1. Download a neuron morphology and electrical model from ModelDB\n",
    "\n",
    "\n",
    "This model is open source and provided by the Allen Brain Institute"
   ]
  },
  {
   "cell_type": "code",
   "execution_count": 1,
   "metadata": {
    "pycharm": {
     "is_executing": false
    }
   },
   "outputs": [
    {
     "ename": "ImportError",
     "evalue": "No module named 'requests'",
     "output_type": "error",
     "traceback": [
      "\u001b[0;31m---------------------------------------------------------------------------\u001b[0m",
      "\u001b[0;31mImportError\u001b[0m                               Traceback (most recent call last)",
      "\u001b[0;32m<ipython-input-1-0fd4bc75a32e>\u001b[0m in \u001b[0;36m<module>\u001b[0;34m\u001b[0m\n\u001b[1;32m      1\u001b[0m \u001b[0;32mimport\u001b[0m \u001b[0mhttp\u001b[0m\u001b[0;34m\u001b[0m\u001b[0m\n\u001b[0;32m----> 2\u001b[0;31m \u001b[0;32mimport\u001b[0m \u001b[0mrequests\u001b[0m\u001b[0;34m\u001b[0m\u001b[0m\n\u001b[0m\u001b[1;32m      3\u001b[0m \u001b[0;32mimport\u001b[0m \u001b[0mshutil\u001b[0m\u001b[0;34m\u001b[0m\u001b[0m\n\u001b[1;32m      4\u001b[0m \u001b[0;34m\u001b[0m\u001b[0m\n\u001b[1;32m      5\u001b[0m \u001b[0;32mdef\u001b[0m \u001b[0mmodeldb_download\u001b[0m\u001b[0;34m(\u001b[0m\u001b[0mmodel_id\u001b[0m\u001b[0;34m,\u001b[0m \u001b[0mfileobj\u001b[0m\u001b[0;34m)\u001b[0m\u001b[0;34m:\u001b[0m\u001b[0;34m\u001b[0m\u001b[0m\n",
      "\u001b[0;31mImportError\u001b[0m: No module named 'requests'"
     ]
    }
   ],
   "source": [
    "import http\n",
    "import requests\n",
    "import shutil\n",
    "\n",
    "def modeldb_download(model_id, fileobj):\n",
    "    \"\"\"Download model from ModelDB in ZIP format\n",
    "    \"\"\"\n",
    "    dl_url_prefix = \"https://senselab.med.yale.edu/modeldb/eavBinDown.cshtml?\"\n",
    "    dl_url = dl_url_prefix + \"o={model_id}&a=311&mime=application/zip\"\n",
    "    resp = requests.get(dl_url.format(model_id=model_id), stream=True)\n",
    "    resp.raise_for_status()\n",
    "    if resp.status_code == httplib.OK:\n",
    "        resp.raw.decode_content = True\n",
    "        shutil.copyfileobj(resp.raw, fileobj)"
   ]
  },
  {
   "cell_type": "code",
   "execution_count": null,
   "metadata": {
    "pycharm": {
     "is_executing": false
    }
   },
   "outputs": [],
   "source": [
    "# Download Allen Cell Types Database model in ./models directory\n",
    "import os\n",
    "try:\n",
    "    os.makedirs('/opt/src/models')\n",
    "except OSError:\n",
    "    pass\n",
    "with open('/opt/src/models/184167.zip', 'wb') as ostr:\n",
    "    modeldb_download(184167, ostr)"
   ]
  },
  {
   "cell_type": "code",
   "execution_count": null,
   "metadata": {
    "pycharm": {
     "is_executing": false
    }
   },
   "outputs": [],
   "source": [
    "! cd /opt/src/models ; unzip 184167"
   ]
  },
  {
   "cell_type": "code",
   "execution_count": null,
   "metadata": {
    "pycharm": {
     "is_executing": false
    }
   },
   "outputs": [],
   "source": [
    "! rm -rf /opt/src/models/AllenBrainNeuron ; mv /opt/src/models/472300877converted /opt/src/models/AllenBrainNeuron\n"
   ]
  },
  {
   "cell_type": "markdown",
   "metadata": {},
   "source": [
    "### 2. Download our special synapse model\n",
    "\n",
    "This model is very likely open source. Anyways, use with care. \n",
    "\n",
    "#### To download the model, replace `<user>` below with your username "
   ]
  },
  {
   "cell_type": "code",
   "execution_count": null,
   "metadata": {
    "pycharm": {
     "is_executing": false
    }
   },
   "outputs": [],
   "source": [
    "! git clone -q \\\n",
    "  ssh://$USER_LOGIN@bbpcode.epfl.ch/sim/neurodamus/bbp /opt/src/neurodamus"
   ]
  },
  {
   "cell_type": "code",
   "execution_count": null,
   "metadata": {
    "collapsed": true,
    "jupyter": {
     "outputs_hidden": true
    },
    "pycharm": {
     "is_executing": false
    }
   },
   "outputs": [],
   "source": [
    "! cp /opt/src/neurodamus/lib/modlib/ProbAMPANMDA_EMS.mod /opt/src/models/AllenBrainNeuron/modfiles"
   ]
  },
  {
   "cell_type": "code",
   "execution_count": null,
   "metadata": {
    "collapsed": true,
    "jupyter": {
     "outputs_hidden": true
    },
    "pycharm": {
     "is_executing": false
    }
   },
   "outputs": [],
   "source": [
    "os.chdir('/opt/src/models/AllenBrainNeuron')"
   ]
  },
  {
   "cell_type": "markdown",
   "metadata": {},
   "source": [
    "### 3. Generate ion channel and synapse C files for NEURON"
   ]
  },
  {
   "cell_type": "code",
   "execution_count": null,
   "metadata": {
    "pycharm": {
     "is_executing": false
    }
   },
   "outputs": [],
   "source": [
    "! nrnivmodl modfiles"
   ]
  },
  {
   "cell_type": "markdown",
   "metadata": {},
   "source": [
    "### 4. Definition of simulation parameters"
   ]
  },
  {
   "cell_type": "code",
   "execution_count": null,
   "metadata": {
    "collapsed": true,
    "jupyter": {
     "outputs_hidden": true
    },
    "pycharm": {
     "is_executing": false
    }
   },
   "outputs": [],
   "source": [
    "import neuron\n",
    "from neuron import h,gui\n",
    "import matplotlib.pyplot as plt\n",
    "import sys\n",
    "import numpy as np\n",
    "\n",
    "%matplotlib inline\n"
   ]
  },
  {
   "cell_type": "code",
   "execution_count": null,
   "metadata": {
    "pycharm": {
     "is_executing": false
    }
   },
   "outputs": [],
   "source": [
    "sys.path.append(os.getcwd())\n",
    "from neuron472300877 import Neuron472300877 as Cell"
   ]
  },
  {
   "cell_type": "code",
   "execution_count": null,
   "metadata": {
    "collapsed": true,
    "jupyter": {
     "outputs_hidden": true
    },
    "pycharm": {
     "is_executing": false
    }
   },
   "outputs": [],
   "source": [
    "junction_potential = -14.0\n",
    "h.tstop = 550\n",
    "h.celsius = 34.0"
   ]
  },
  {
   "cell_type": "code",
   "execution_count": null,
   "metadata": {
    "pycharm": {
     "is_executing": false
    }
   },
   "outputs": [],
   "source": [
    "cell = Cell()"
   ]
  },
  {
   "cell_type": "code",
   "execution_count": null,
   "metadata": {
    "collapsed": true,
    "jupyter": {
     "outputs_hidden": true
    },
    "pycharm": {
     "is_executing": false
    }
   },
   "outputs": [],
   "source": [
    "# setup recording\n",
    "n_rec = 1\n",
    "t = h.Vector()\n",
    "t.record(h._ref_t)\n",
    "rec_vec = []\n",
    "for i in range(n_rec):\n",
    "    rec_vec.append( h.Vector() )\n",
    "    rec_vec[-1].record(cell.soma[i](0.5)._ref_v)"
   ]
  },
  {
   "cell_type": "markdown",
   "metadata": {},
   "source": [
    "### 5. Place some synapses at random dendritic locations"
   ]
  },
  {
   "cell_type": "code",
   "execution_count": null,
   "metadata": {
    "collapsed": true,
    "jupyter": {
     "outputs_hidden": true
    },
    "pycharm": {
     "is_executing": false
    }
   },
   "outputs": [],
   "source": [
    "synlist = []\n",
    "NSYN = 10"
   ]
  },
  {
   "cell_type": "code",
   "execution_count": null,
   "metadata": {
    "collapsed": true,
    "jupyter": {
     "outputs_hidden": true
    },
    "pycharm": {
     "is_executing": false
    }
   },
   "outputs": [],
   "source": [
    "for i in range(NSYN):\n",
    "    target = np.random.randint(len(cell.dend))\n",
    "    synlist.append( h.ProbAMPANMDA_EMS(0.5, sec=cell.dend[target]) )"
   ]
  },
  {
   "cell_type": "code",
   "execution_count": null,
   "metadata": {
    "collapsed": true,
    "jupyter": {
     "outputs_hidden": true
    },
    "pycharm": {
     "is_executing": false
    }
   },
   "outputs": [],
   "source": [
    "stimlist = []\n",
    "NSTIM = NSYN"
   ]
  },
  {
   "cell_type": "markdown",
   "metadata": {},
   "source": [
    "### 6. Define how to stimulate those synapses"
   ]
  },
  {
   "cell_type": "code",
   "execution_count": null,
   "metadata": {
    "collapsed": true,
    "jupyter": {
     "outputs_hidden": true
    },
    "pycharm": {
     "is_executing": false
    }
   },
   "outputs": [],
   "source": [
    "for i in range(NSTIM):\n",
    "    stim = h.NetStim()\n",
    "    stim.start = np.random.normal(20.0,2.0)\n",
    "    stim.noise = 1.0\n",
    "    stim.interval = 100.0\n",
    "    stim.number = 1e+9\n",
    "    stimlist.append(stim)"
   ]
  },
  {
   "cell_type": "code",
   "execution_count": null,
   "metadata": {
    "collapsed": true,
    "jupyter": {
     "outputs_hidden": true
    },
    "pycharm": {
     "is_executing": false
    }
   },
   "outputs": [],
   "source": [
    "nclist = []\n",
    "w = 5.0"
   ]
  },
  {
   "cell_type": "code",
   "execution_count": null,
   "metadata": {
    "collapsed": true,
    "jupyter": {
     "outputs_hidden": true
    },
    "pycharm": {
     "is_executing": false
    }
   },
   "outputs": [],
   "source": [
    "for syn, stim in zip(synlist[:-1], stimlist[:-1]):\n",
    "    ncstim = h.NetCon(stim, syn)\n",
    "    ncstim.delay = 1.\n",
    "    ncstim.weight[0] = w\n",
    "    nclist.append(ncstim)"
   ]
  },
  {
   "cell_type": "markdown",
   "metadata": {},
   "source": [
    "### 7. Tell NEURON we want to record from every synapse"
   ]
  },
  {
   "cell_type": "code",
   "execution_count": null,
   "metadata": {
    "collapsed": true,
    "jupyter": {
     "outputs_hidden": true
    },
    "pycharm": {
     "is_executing": false
    }
   },
   "outputs": [],
   "source": [
    "t_vec = h.Vector()\n",
    "id_vec = h.Vector()\n",
    "for i in range(len(nclist)):\n",
    "    nclist[i].record(t_vec, id_vec, i)"
   ]
  },
  {
   "cell_type": "markdown",
   "metadata": {},
   "source": [
    "### 8. Initialize simulation state"
   ]
  },
  {
   "cell_type": "code",
   "execution_count": null,
   "metadata": {
    "pycharm": {
     "is_executing": false
    }
   },
   "outputs": [],
   "source": [
    "h.v_init = -88.734330774000796\n",
    "h.init()\n",
    "h.finitialize()"
   ]
  },
  {
   "cell_type": "markdown",
   "metadata": {},
   "source": [
    "### 9. Simulate!"
   ]
  },
  {
   "cell_type": "code",
   "execution_count": null,
   "metadata": {
    "pycharm": {
     "is_executing": false
    }
   },
   "outputs": [],
   "source": [
    "h.tstop = 100\n",
    "h.batch_run(100., 1./h.steps_per_ms)"
   ]
  },
  {
   "cell_type": "code",
   "execution_count": null,
   "metadata": {
    "pycharm": {
     "is_executing": false
    }
   },
   "outputs": [],
   "source": [
    "from matplotlib import gridspec\n",
    "fig = plt.figure(figsize=(12, 6)) \n",
    "gs = gridspec.GridSpec(2, 1, height_ratios=[3, 1]) \n",
    "ax0 = plt.subplot(gs[0])\n",
    "for i in range(n_rec):\n",
    "    ax0.plot(t,rec_vec[i],'-')\n",
    "ax1 = plt.subplot(gs[1])\n",
    "ax1.plot(t_vec.to_python(), id_vec.to_python(), '*')"
   ]
  },
  {
   "cell_type": "markdown",
   "metadata": {},
   "source": [
    "### 10. Change some simulation parameters\n",
    "\n",
    "Here we increase the frequency of stimulation of synapses"
   ]
  },
  {
   "cell_type": "code",
   "execution_count": null,
   "metadata": {
    "collapsed": true,
    "jupyter": {
     "outputs_hidden": true
    },
    "pycharm": {
     "is_executing": false
    }
   },
   "outputs": [],
   "source": [
    "for i in range(NSTIM):\n",
    "    stimlist[i].interval = 1.0"
   ]
  },
  {
   "cell_type": "code",
   "execution_count": null,
   "metadata": {
    "pycharm": {
     "is_executing": false
    }
   },
   "outputs": [],
   "source": [
    "h.v_init = -88.734330774000796\n",
    "h.init()\n",
    "h.finitialize()"
   ]
  },
  {
   "cell_type": "code",
   "execution_count": null,
   "metadata": {
    "pycharm": {
     "is_executing": false
    }
   },
   "outputs": [],
   "source": [
    "h.tstop = 100\n",
    "h.batch_run(100., 1./h.steps_per_ms)"
   ]
  },
  {
   "cell_type": "code",
   "execution_count": null,
   "metadata": {
    "pycharm": {
     "is_executing": false
    }
   },
   "outputs": [],
   "source": [
    "fig = plt.figure(figsize=(12, 6)) \n",
    "gs = gridspec.GridSpec(2, 1, height_ratios=[3, 1]) \n",
    "ax0 = plt.subplot(gs[0])\n",
    "for i in range(n_rec):\n",
    "    ax0.plot(t,rec_vec[i],'-')\n",
    "ax1 = plt.subplot(gs[1])\n",
    "ax1.plot(t_vec.to_python(), id_vec.to_python(), '*')"
   ]
  },
  {
   "cell_type": "code",
   "execution_count": null,
   "metadata": {
    "collapsed": true,
    "jupyter": {
     "outputs_hidden": true
    },
    "pycharm": {
     "is_executing": false
    }
   },
   "outputs": [],
   "source": []
  }
 ],
 "metadata": {
  "kernelspec": {
   "display_name": "Python 3",
   "language": "python",
   "name": "python3"
  },
  "language_info": {
   "codemirror_mode": {
    "name": "ipython",
    "version": 3
   },
   "file_extension": ".py",
   "mimetype": "text/x-python",
   "name": "python",
   "nbconvert_exporter": "python",
   "pygments_lexer": "ipython3",
   "version": "3.7.3"
  },
  "pycharm": {
   "stem_cell": {
    "cell_type": "raw",
    "metadata": {
     "collapsed": false
    },
    "source": []
   }
  }
 },
 "nbformat": 4,
 "nbformat_minor": 4
}
