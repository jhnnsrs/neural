{
 "cells": [
  {
   "cell_type": "markdown",
   "metadata": {},
   "source": [
    "# How to run Models\n",
    "\n",
    "Put your modfiles into \"mod\" and run \n",
    "\n",
    "```! nrnivmodl mod```\n",
    "\n",
    "once (see cell below), then restart the container\n",
    "because neuron needs to restart with the Modfiles already preloaded\n",
    "\n",
    "```docker-compose restart neuron```\n",
    "\n"
   ]
  },
  {
   "cell_type": "code",
   "execution_count": 1,
   "metadata": {
    "pycharm": {
     "is_executing": false
    }
   },
   "outputs": [
    {
     "name": "stdout",
     "output_type": "stream",
     "text": [
      "Creating x86_64 directory for .o files.\n",
      "\n",
      "/notebooks\n",
      "ls: cannot access 'mod/*.inc': No such file or directory\n",
      "mod/cadad.mod mod/cal2.mod mod/can_mig.mod mod/h_kole.mod mod/kap_BS.mod mod/kBK.mod mod/kdmc_BS.mod mod/kdr_BS.mod mod/nax_BS.mod mod/savedist.mod\n",
      "cadad.mod cal2.mod can_mig.mod h_kole.mod kap_BS.mod kBK.mod kdmc_BS.mod kdr_BS.mod nax_BS.mod savedist.mod\n",
      "\"/neuron/x86_64/bin/nocmodl\" cadad\n",
      "\"/neuron/x86_64/bin/nocmodl\" cal2\n",
      "Translating cadad.mod into cadad.c\n",
      "Thread Safe\n",
      "\"/neuron/share/nrn/libtool\" --tag=CC --mode=compile mpicc -DHAVE_CONFIG_H  -I. -I.. -I\"/neuron/include/nrn\" -I\"/neuron/x86_64/lib\"      -g -O2 -c -o cadad.lo cadad.c\n",
      "\"/neuron/x86_64/bin/nocmodl\" can_mig\n",
      "Translating cal2.mod into cal2.c\n",
      "Warning: Default 2 of PARAMETER cao will be ignored and set by NEURON.\n",
      "Warning: Default 5e-05 of PARAMETER cai will be ignored and set by NEURON.\n",
      "Thread Safe\n",
      "\"/neuron/x86_64/bin/nocmodl\" h_kole\n",
      "Translating can_mig.mod into can_mig.c\n",
      "Warning: Default 2 of PARAMETER cao will be ignored and set by NEURON.\n",
      "Warning: Default 5e-05 of PARAMETER cai will be ignored and set by NEURON.\n",
      "Thread Safe\n",
      "\"/neuron/share/nrn/libtool\" --tag=CC --mode=compile mpicc -DHAVE_CONFIG_H  -I. -I.. -I\"/neuron/include/nrn\" -I\"/neuron/x86_64/lib\"      -g -O2 -c -o cal2.lo cal2.c\n",
      "\"/neuron/share/nrn/libtool\" --tag=CC --mode=compile mpicc -DHAVE_CONFIG_H  -I. -I.. -I\"/neuron/include/nrn\" -I\"/neuron/x86_64/lib\"      -g -O2 -c -o can_mig.lo can_mig.c\n",
      "Translating h_kole.mod into h_kole.c\n",
      "Thread Safe\n",
      "\"/neuron/share/nrn/libtool\" --tag=CC --mode=compile mpicc -DHAVE_CONFIG_H  -I. -I.. -I\"/neuron/include/nrn\" -I\"/neuron/x86_64/lib\"      -g -O2 -c -o h_kole.lo h_kole.c\n",
      "libtool: compile:  mpicc -DHAVE_CONFIG_H -I. -I.. -I/neuron/include/nrn -I/neuron/x86_64/lib -g -O2 -c cal2.c  -fPIC -DPIC -o .libs/cal2.o\n",
      "libtool: compile:  mpicc -DHAVE_CONFIG_H -I. -I.. -I/neuron/include/nrn -I/neuron/x86_64/lib -g -O2 -c cadad.c  -fPIC -DPIC -o .libs/cadad.o\n",
      "libtool: compile:  mpicc -DHAVE_CONFIG_H -I. -I.. -I/neuron/include/nrn -I/neuron/x86_64/lib -g -O2 -c h_kole.c  -fPIC -DPIC -o .libs/h_kole.o\n",
      "libtool: compile:  mpicc -DHAVE_CONFIG_H -I. -I.. -I/neuron/include/nrn -I/neuron/x86_64/lib -g -O2 -c can_mig.c  -fPIC -DPIC -o .libs/can_mig.o\n",
      "libtool: compile:  mpicc -DHAVE_CONFIG_H -I. -I.. -I/neuron/include/nrn -I/neuron/x86_64/lib -g -O2 -c cadad.c -o cadad.o >/dev/null 2>&1\n",
      "libtool: compile:  mpicc -DHAVE_CONFIG_H -I. -I.. -I/neuron/include/nrn -I/neuron/x86_64/lib -g -O2 -c h_kole.c -o h_kole.o >/dev/null 2>&1\n",
      "libtool: compile:  mpicc -DHAVE_CONFIG_H -I. -I.. -I/neuron/include/nrn -I/neuron/x86_64/lib -g -O2 -c cal2.c -o cal2.o >/dev/null 2>&1\n",
      "libtool: compile:  mpicc -DHAVE_CONFIG_H -I. -I.. -I/neuron/include/nrn -I/neuron/x86_64/lib -g -O2 -c can_mig.c -o can_mig.o >/dev/null 2>&1\n",
      "\"/neuron/x86_64/bin/nocmodl\" kap_BS\n",
      "Translating kap_BS.mod into kap_BS.c\n",
      "Thread Safe\n",
      "\"/neuron/share/nrn/libtool\" --tag=CC --mode=compile mpicc -DHAVE_CONFIG_H  -I. -I.. -I\"/neuron/include/nrn\" -I\"/neuron/x86_64/lib\"      -g -O2 -c -o kap_BS.lo kap_BS.c\n",
      "\"/neuron/x86_64/bin/nocmodl\" kBK\n",
      "Translating kBK.mod into kBK.c\n",
      "Thread Safe\n",
      "\"/neuron/share/nrn/libtool\" --tag=CC --mode=compile mpicc -DHAVE_CONFIG_H  -I. -I.. -I\"/neuron/include/nrn\" -I\"/neuron/x86_64/lib\"      -g -O2 -c -o kBK.lo kBK.c\n",
      "libtool: compile:  mpicc -DHAVE_CONFIG_H -I. -I.. -I/neuron/include/nrn -I/neuron/x86_64/lib -g -O2 -c kap_BS.c  -fPIC -DPIC -o .libs/kap_BS.o\n",
      "libtool: compile:  mpicc -DHAVE_CONFIG_H -I. -I.. -I/neuron/include/nrn -I/neuron/x86_64/lib -g -O2 -c kBK.c  -fPIC -DPIC -o .libs/kBK.o\n",
      "\"/neuron/x86_64/bin/nocmodl\" kdmc_BS\n",
      "Translating kdmc_BS.mod into kdmc_BS.c\n",
      "Thread Safe\n",
      "\"/neuron/share/nrn/libtool\" --tag=CC --mode=compile mpicc -DHAVE_CONFIG_H  -I. -I.. -I\"/neuron/include/nrn\" -I\"/neuron/x86_64/lib\"      -g -O2 -c -o kdmc_BS.lo kdmc_BS.c\n",
      "libtool: compile:  mpicc -DHAVE_CONFIG_H -I. -I.. -I/neuron/include/nrn -I/neuron/x86_64/lib -g -O2 -c kap_BS.c -o kap_BS.o >/dev/null 2>&1\n",
      "\"/neuron/x86_64/bin/nocmodl\" kdr_BS\n",
      "Translating kdr_BS.mod into kdr_BS.c\n",
      "libtool: compile:  mpicc -DHAVE_CONFIG_H -I. -I.. -I/neuron/include/nrn -I/neuron/x86_64/lib -g -O2 -c kdmc_BS.c  -fPIC -DPIC -o .libs/kdmc_BS.o\n",
      "Thread Safe\n",
      "\"/neuron/share/nrn/libtool\" --tag=CC --mode=compile mpicc -DHAVE_CONFIG_H  -I. -I.. -I\"/neuron/include/nrn\" -I\"/neuron/x86_64/lib\"      -g -O2 -c -o kdr_BS.lo kdr_BS.c\n",
      "libtool: compile:  mpicc -DHAVE_CONFIG_H -I. -I.. -I/neuron/include/nrn -I/neuron/x86_64/lib -g -O2 -c kdr_BS.c  -fPIC -DPIC -o .libs/kdr_BS.o\n",
      "libtool: compile:  mpicc -DHAVE_CONFIG_H -I. -I.. -I/neuron/include/nrn -I/neuron/x86_64/lib -g -O2 -c kBK.c -o kBK.o >/dev/null 2>&1\n",
      "libtool: compile:  mpicc -DHAVE_CONFIG_H -I. -I.. -I/neuron/include/nrn -I/neuron/x86_64/lib -g -O2 -c kdmc_BS.c -o kdmc_BS.o >/dev/null 2>&1\n",
      "\"/neuron/x86_64/bin/nocmodl\" nax_BS\n",
      "Translating nax_BS.mod into nax_BS.c\n",
      "Thread Safe\n",
      "\"/neuron/share/nrn/libtool\" --tag=CC --mode=compile mpicc -DHAVE_CONFIG_H  -I. -I.. -I\"/neuron/include/nrn\" -I\"/neuron/x86_64/lib\"      -g -O2 -c -o nax_BS.lo nax_BS.c\n",
      "libtool: compile:  mpicc -DHAVE_CONFIG_H -I. -I.. -I/neuron/include/nrn -I/neuron/x86_64/lib -g -O2 -c kdr_BS.c -o kdr_BS.o >/dev/null 2>&1\n",
      "libtool: compile:  mpicc -DHAVE_CONFIG_H -I. -I.. -I/neuron/include/nrn -I/neuron/x86_64/lib -g -O2 -c nax_BS.c  -fPIC -DPIC -o .libs/nax_BS.o\n",
      "\"/neuron/x86_64/bin/nocmodl\" savedist\n",
      "Translating savedist.mod into savedist.c\n",
      "Thread Safe\n",
      "\"/neuron/share/nrn/libtool\" --tag=CC --mode=compile mpicc -DHAVE_CONFIG_H  -I. -I.. -I\"/neuron/include/nrn\" -I\"/neuron/x86_64/lib\"      -g -O2 -c -o savedist.lo savedist.c\n",
      "libtool: compile:  mpicc -DHAVE_CONFIG_H -I. -I.. -I/neuron/include/nrn -I/neuron/x86_64/lib -g -O2 -c savedist.c  -fPIC -DPIC -o .libs/savedist.o\n",
      "\"/neuron/share/nrn/libtool\" --tag=CC --mode=compile mpicc -DHAVE_CONFIG_H  -I. -I.. -I\"/neuron/include/nrn\" -I\"/neuron/x86_64/lib\"      -g -O2 -c -o mod_func.lo mod_func.c\n",
      "libtool: compile:  mpicc -DHAVE_CONFIG_H -I. -I.. -I/neuron/include/nrn -I/neuron/x86_64/lib -g -O2 -c mod_func.c  -fPIC -DPIC -o .libs/mod_func.o\n",
      "libtool: compile:  mpicc -DHAVE_CONFIG_H -I. -I.. -I/neuron/include/nrn -I/neuron/x86_64/lib -g -O2 -c savedist.c -o savedist.o >/dev/null 2>&1\n",
      "libtool: compile:  mpicc -DHAVE_CONFIG_H -I. -I.. -I/neuron/include/nrn -I/neuron/x86_64/lib -g -O2 -c nax_BS.c -o nax_BS.o >/dev/null 2>&1\n",
      "libtool: compile:  mpicc -DHAVE_CONFIG_H -I. -I.. -I/neuron/include/nrn -I/neuron/x86_64/lib -g -O2 -c mod_func.c -o mod_func.o >/dev/null 2>&1\n",
      "\"/neuron/share/nrn/libtool\" --tag=CC --mode=link mpicc -module  -g -O2    -o libnrnmech.la -rpath \"/neuron/x86_64/lib\"  cadad.lo cal2.lo can_mig.lo h_kole.lo kap_BS.lo kBK.lo kdmc_BS.lo kdr_BS.lo nax_BS.lo savedist.lo mod_func.lo  -L\"/neuron/x86_64/lib\" -lnrnoc -loc -lmemacs -lnrnmpi -lscopmath -lsparse13 -lreadline -lncurses -L\"/neuron/x86_64/lib\" -lnrniv -livoc -lneuron_gnu -lmeschach -lsundials -livos      -lm -ldl\n",
      "libtool: link: mpicc -shared  -fPIC -DPIC  .libs/cadad.o .libs/cal2.o .libs/can_mig.o .libs/h_kole.o .libs/kap_BS.o .libs/kBK.o .libs/kdmc_BS.o .libs/kdr_BS.o .libs/nax_BS.o .libs/savedist.o .libs/mod_func.o   -Wl,-rpath -Wl,/neuron/x86_64/lib -Wl,-rpath -Wl,/neuron/x86_64/lib -L/neuron/x86_64/lib /neuron/x86_64/lib/libnrnoc.so /neuron/x86_64/lib/liboc.so -lX11 /neuron/x86_64/lib/libmemacs.so /neuron/x86_64/lib/libnrnmpi.so /neuron/x86_64/lib/libscopmath.so /neuron/x86_64/lib/libsparse13.so -lreadline -lncurses /neuron/x86_64/lib/libnrniv.so /neuron/x86_64/lib/libivoc.so /neuron/x86_64/lib/libneuron_gnu.so /neuron/x86_64/lib/libmeschach.so /neuron/x86_64/lib/libsundials.so /neuron/x86_64/lib/libivos.so -lm -ldl  -g -O2   -Wl,-soname -Wl,libnrnmech.so.0 -o .libs/libnrnmech.so.0.0.0\n",
      "libtool: link: (cd \".libs\" && rm -f \"libnrnmech.so.0\" && ln -s \"libnrnmech.so.0.0.0\" \"libnrnmech.so.0\")\n",
      "libtool: link: (cd \".libs\" && rm -f \"libnrnmech.so\" && ln -s \"libnrnmech.so.0.0.0\" \"libnrnmech.so\")\n",
      "libtool: link: ar cru .libs/libnrnmech.a  cadad.o cal2.o can_mig.o h_kole.o kap_BS.o kBK.o kdmc_BS.o kdr_BS.o nax_BS.o savedist.o mod_func.o\n",
      "ar: `u' modifier ignored since `D' is the default (see `U')\n",
      "libtool: link: ranlib .libs/libnrnmech.a\n",
      "libtool: link: ( cd \".libs\" && rm -f \"libnrnmech.la\" && ln -s \"../libnrnmech.la\" \"libnrnmech.la\" )\n",
      "Successfully created x86_64/special\n"
     ]
    }
   ],
   "source": [
    "! nrnivmodl mod"
   ]
  },
  {
   "cell_type": "markdown",
   "metadata": {},
   "source": [
    "Then once restarted run everything"
   ]
  }
 ],
 "metadata": {
  "kernelspec": {
   "display_name": "Python 3",
   "language": "python",
   "name": "python3"
  },
  "language_info": {
   "codemirror_mode": {
    "name": "ipython",
    "version": 3
   },
   "file_extension": ".py",
   "mimetype": "text/x-python",
   "name": "python",
   "nbconvert_exporter": "python",
   "pygments_lexer": "ipython3",
   "version": "3.7.3"
  }
 },
 "nbformat": 4,
 "nbformat_minor": 4
}
